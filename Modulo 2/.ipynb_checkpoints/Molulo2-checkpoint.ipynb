{
 "cells": [
  {
   "cell_type": "code",
   "execution_count": 19,
   "id": "a3a6a5d2-2bf3-4779-8644-3c08a28bb7b5",
   "metadata": {},
   "outputs": [],
   "source": [
    "# Primeiro, é preciso importar os pacotes que serão usados para a visualização\n",
    "# Isso pode ser ignorado por enquanto, pois será explicado em outro notebook\n",
    "import numpy as np\n",
    "import math, random\n",
    "import matplotlib.pyplot as plt\n",
    "from mpl_toolkits import mplot3d\n",
    "\n",
    "def single_neuron_regression_model(w, w_0, x):\n",
    "\n",
    "    # Executar o produto escalar na entrada x e nos pesos aprendidos w\n",
    "    z = 0\n",
    "    for feature, weight in zip(x, w):\n",
    "        z += feature * weight\n",
    "    z += w_0  # Acrescentar termo de viés\n",
    "\n",
    "    # Aplicar a função de ativação e devolver\n",
    "    a = linear(z)\n",
    "    return a\n",
    "\n",
    "# Função de ativação linear simples: só devolve a identidade\n",
    "def linear(z):\n",
    "    return z\n",
    "\n",
    "# A função de regressão de neurônio único foi escrita sem presumir quantas\n",
    "# dimensões há nos dados de entrada (ou seja, pode haver só um atributo x,\n",
    "# 10 atributos ou qualquer outra quantidade). Isso é essencial para que\n",
    "# o modelo possa aprender usando um conjunto de dados com qualquer vetor de dimensão x."
   ]
  },
  {
   "cell_type": "code",
   "execution_count": 20,
   "id": "e018daea-5e3c-4ac9-9c96-babfdb0e452e",
   "metadata": {},
   "outputs": [
    {
     "name": "stdout",
     "output_type": "stream",
     "text": [
      "input [1, 2] => output 3\n"
     ]
    }
   ],
   "source": [
    "# Teste: saída do modelo para um único ponto de dados em 2D:\n",
    "x = [1, 2]\n",
    "w = [5, 3]\n",
    "w_0 = -8\n",
    "\n",
    "y = single_neuron_regression_model(w, w_0, x)\n",
    "print(\"input\", x, \"=> output\", y)"
   ]
  },
  {
   "cell_type": "markdown",
   "id": "ea7e730f-5680-46fd-947e-699695874b3a",
   "metadata": {},
   "source": [
    "## Treinamento do modelo de regressão – descida do gradienteever com mais precisão."
   ]
  },
  {
   "cell_type": "markdown",
   "id": "3ee6c4ea-b7f9-4be8-8ad5-1b40d90d05ca",
   "metadata": {},
   "source": [
    "Agora que implementamos uma função de modelo de regressão, podemos usá-la para fazer previsões para qualquer entrada arbitrária. No entanto, sem um conjunto de pesos treinados, a função de previsão do modelo não fará boas previsões com base nos dados que fornecermos.\n",
    "\n",
    "Para resolver esse problema, é preciso implementar um algoritmo que encontre pesos  w  e  w0  adequados e baseados no conjunto de dados. Usaremos a descida do gradiente, um pilar da aprendizagem profunda, para encontrar pesos que minimizem uma função de custo,  J , em que  J  é a perda (loss) total  L  nos dados de treinamento:\n",
    "\n",
    "J=∑inL(y^(i),y(i)) \n",
    "\n",
    "Começaremos com uma função de perda relativamente simples, apropriada para um problema de regressão: usaremos a perda de erro quadrático, em que  ϵ(i)  é o erro para qualquer amostra  i :\n",
    "\n",
    "LSE(y^(i),y(i))=12(yi^−yi)2=12ϵ2 \n",
    "\n",
    "O processo de treinamento é o seguinte:\n",
    "\n",
    "Executamos o loop de treinamento para um número especificado de iterações ao longo do conjunto de dados, também conhecidas como épocas (epochs).\n",
    "\n",
    "Em cada época, analisamos cada par entrada-saída  (x(i),y(i)) . Para cada um desses pares:\n",
    "\n",
    "Calculamos a perda  L  entre o valor correto  y  e o valor previsto  y^ ;\n",
    "Calculamos o gradiente da perda em relação a cada peso;\n",
    "Atualizamos os pesos com base no gradiente e na taxa de aprendizagem,  η :\n",
    "wj,new=wj−ηdJdwj \n",
    "\n",
    "Este é o conceito básico da aprendizagem baseada em gradiente: estamos \"empurrando\" cada peso ao longo do gradiente da função de custo em relação a esse peso para ajudar a rede neural a prever com mais precisão."
   ]
  },
  {
   "cell_type": "markdown",
   "id": "35c166e7-e956-4e1f-9f75-b500bbd61c1e",
   "metadata": {},
   "source": [
    "## Descida do gradiente com perda de erro quadráticom que  dzdw0=1."
   ]
  },
  {
   "cell_type": "markdown",
   "id": "654194fc-eba4-474c-b0a3-cb650ab76922",
   "metadata": {},
   "source": [
    "Para cada ponto de dados de amostra  i , o processo é o seguinte:\n",
    "\n",
    "dJdwj=dLSEdwj=dLSEdy^dy^dwj=(y^−y)dy^dwj \n",
    "\n",
    "É importante saber que precisamos ser capazes de calcular o gradiente da saída do modelo em relação a cada peso:\n",
    "\n",
    "dy^dwj=df(z)dzdzdwj \n",
    "\n",
    "Para a função de ativação linear  f(z)=z , o primeiro termo é muito simples:  df(z)dz=1 .\n",
    "\n",
    "Para o segundo termo, recordemos que:\n",
    "\n",
    "z=w0+x1⋅w1+⋯+xj⋅wj+⋯+xm⋅wm \n",
    "\n",
    "portanto,  dzdwj=xj , exceto para  w0 , em que  dzdw0=1."
   ]
  },
  {
   "cell_type": "code",
   "execution_count": 21,
   "id": "1523b1ab-9591-4620-b4b4-4bc8d3b8642e",
   "metadata": {},
   "outputs": [],
   "source": [
    "# Vamos agora definir a função de treinamento para o caso da perda de erro quadrático\n",
    "# Mais uma vez, faremos com que ela seja indiferente às dimensões dos dados de entrada\n",
    "# e flexível para funcionar com funções de diferentes modelos\n",
    "def train_model_SE_loss(model_function, w, w_0,\n",
    "                        input_data, output_data,\n",
    "                        learning_rate, num_epochs):\n",
    "    do_print = False\n",
    "    for epoch in range(num_epochs):\n",
    "        total_loss = 0 # Acompanhar a perda total ao longo do conjunto de dados\n",
    "        for x, y in zip(input_data, output_data):\n",
    "            y_predicted = model_function(w, w_0, x)\n",
    "            error = y_predicted - y\n",
    "            total_loss += (error**2)/2\n",
    "            if do_print: print(\"x:\", x, \"y:\", y, \"error:\", error)\n",
    "            if do_print: print(\" old weights:\", w, w_0)\n",
    "\n",
    "            # Atualizar o coeficiente de viés usando gradiente em relação a w_0\n",
    "            w_0 -= learning_rate * error * 1\n",
    "\n",
    "            # Atualizar outros coeficientes do modelo usando gradiente em relação a cada coeficiente\n",
    "            for j, x_j in enumerate(x):\n",
    "                w[j] -= learning_rate * error * x_j\n",
    "            if do_print: print(\" new weights:\", w, w_0)\n",
    "\n",
    "        report_every = max(1, num_epochs // 10)\n",
    "        if epoch % report_every == 0: # Informar progresso de poucas em poucas épocas\n",
    "            print(\"epoch\", epoch, \"has total loss\", total_loss)\n",
    "\n",
    "    return w, w_0"
   ]
  },
  {
   "cell_type": "code",
   "execution_count": 22,
   "id": "a365d48d-e0a9-421a-a376-86763bede458",
   "metadata": {},
   "outputs": [],
   "source": [
    "# Usaremos esta função para avaliar o desempenho do modelo\n",
    "# de regressão treinado. Isso calculará o erro quadrático médio nos dados.\n",
    "def evaluate_regression_accuracy(model_function, w, w_0, input_data, output_data):\n",
    "    total_loss = 0\n",
    "    n = len(input_data)\n",
    "    for x, y in zip(input_data, output_data):\n",
    "        y_predicted = model_function(w, w_0, x)\n",
    "        error = y_predicted - y\n",
    "        total_loss += (error**2)/2\n",
    "    accuracy = total_loss / n\n",
    "    print(\"Our model has mean square error of\", accuracy)\n",
    "    return accuracy"
   ]
  },
  {
   "cell_type": "markdown",
   "id": "dc0bb89a-f199-4047-b390-7e1d73843d50",
   "metadata": {},
   "source": [
    "## Exemplo de regressão com neurônio único\n",
    "\n",
    "Agora que temos a função do modelo de regressão e uma função de treinamento, falta apenas chamar cada uma dessas funções em um conjunto de dados. Abaixo, treinaremos o neurônio único em um conjunto de dados de teste e visualizaremos o ajuste."
   ]
  },
  {
   "cell_type": "code",
   "execution_count": 23,
   "id": "ece2627a-3421-4d4a-9c64-d43053b29072",
   "metadata": {},
   "outputs": [
    {
     "data": {
      "image/png": "[encoded data removed]",
      "text/plain": [
       "<Figure size 640x480 with 1 Axes>"
      ]
     },
     "metadata": {},
     "output_type": "display_data"
    }
   ],
   "source": [
    "# Temos um conjunto simples em 1D de dados de entrada: uma lista de pontos x,\n",
    "# cada um deles uma lista de extensão 1, com uma resposta y correspondente.\n",
    "X_1D = [[1], [-2], [3], [4.5], [0], [-4], [-1], [4], [-1]]\n",
    "Y_1D = [4,   3,    6,   8,     2,   -3,   -2,   7,   2.5]\n",
    "\n",
    "# Esta função de utilidade nos permitirá visualizar um dado conjunto de dados em 1D.\n",
    "# Não é necessário compreender este código neste momento.\n",
    "def plot_dataset_1D(x, y):\n",
    "    x_np = np.array(x)\n",
    "    y_np = np.array(y)\n",
    "    plt.scatter(x_np[...,0], y_np)\n",
    "\n",
    "# Esta função de utilidade nos permitirá visualizar um ajuste 1D\n",
    "def plot_fit_1D(X, w, w_0):\n",
    "    ylim = plt.ylim()\n",
    "    x_np = np.array(X)\n",
    "    y_pred = np.array([single_neuron_regression_model(w, w_0, x) for x in X])\n",
    "    plt.plot(x_np[...,0], y_pred, color=\"red\")\n",
    "    plt.ylim(ylim)\n",
    "\n",
    "# Visualizar o conjunto de dados acima\n",
    "plot_dataset_1D(X_1D, Y_1D)\n",
    "# plot_fit_1D(X_1D, [1, 2], 0.5)"
   ]
  },
  {
   "cell_type": "code",
   "execution_count": 24,
   "id": "47ad0215-2584-464e-a80f-fa370ca6811e",
   "metadata": {},
   "outputs": [
    {
     "name": "stdout",
     "output_type": "stream",
     "text": [
      "epoch 0 has total loss 75.15118164194563\n",
      "epoch 1 has total loss 40.109157956509094\n",
      "epoch 2 has total loss 29.801523004849642\n",
      "epoch 3 has total loss 25.47970121810249\n",
      "epoch 4 has total loss 22.84563043777799\n",
      "epoch 5 has total loss 20.86922066083035\n",
      "epoch 6 has total loss 19.269845776759738\n",
      "epoch 7 has total loss 17.945486824052068\n",
      "epoch 8 has total loss 16.841512143299816\n",
      "epoch 9 has total loss 15.91945696552539\n",
      "epoch 10 has total loss 15.148892782711584\n",
      "\n",
      "Final weights:\n",
      "[1.2616634248232683] 1.589875809042491\n",
      "Our model has mean square error of 1.5758191255565894\n"
     ]
    },
    {
     "data": {
      "image/png": "[encoded data removed]",
      "text/plain": [
       "<Figure size 640x480 with 1 Axes>"
      ]
     },
     "metadata": {},
     "output_type": "display_data"
    }
   ],
   "source": [
    "# Neste exemplo, definimos os pesos iniciais como zero\n",
    "# e uma taxa de aprendizagem relativamente baixa\n",
    "w_0 = 0\n",
    "w = [0]\n",
    "learning_rate = 0.01\n",
    "epochs = 11\n",
    "\n",
    "w, w_0 = train_model_SE_loss(single_neuron_regression_model, w, w_0,\n",
    "                             X_1D, Y_1D,\n",
    "                             learning_rate, epochs)\n",
    "print(\"\\nFinal weights:\")\n",
    "print(w, w_0)\n",
    "\n",
    "evaluate_regression_accuracy(single_neuron_regression_model, w, w_0, X_1D, Y_1D)\n",
    "\n",
    "plot_dataset_1D(X_1D, Y_1D)\n",
    "plot_fit_1D(X_1D, w, w_0)"
   ]
  },
  {
   "cell_type": "markdown",
   "id": "c1f87e22-f121-40d9-af82-d639d9b4e0e9",
   "metadata": {},
   "source": [
    "https://colab.research.google.com/drive/18Opzhyoe6p4lKWJOk-cMybnlaej2w402#scrollTo=Y0bEMscQCtwH\n",
    "\n",
    "Estou aqui...\n",
    "\n",
    "Modelo de classificação de neurônio único"
   ]
  }
 ],
 "metadata": {
  "kernelspec": {
   "display_name": "Python 3 (ipykernel)",
   "language": "python",
   "name": "python3"
  },
  "language_info": {
   "codemirror_mode": {
    "name": "ipython",
    "version": 3
   },
   "file_extension": ".py",
   "mimetype": "text/x-python",
   "name": "python",
   "nbconvert_exporter": "python",
   "pygments_lexer": "ipython3",
   "version": "3.11.4"
  }
 },
 "nbformat": 4,
 "nbformat_minor": 5
}
