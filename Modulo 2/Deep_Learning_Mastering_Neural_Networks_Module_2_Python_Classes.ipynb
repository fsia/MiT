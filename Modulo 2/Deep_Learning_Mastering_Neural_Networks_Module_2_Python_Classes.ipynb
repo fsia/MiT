{
  "cells": [
    {
      "cell_type": "markdown",
      "metadata": {
        "id": "t6YoTRRKmZ_3"
      },
      "source": [
        "\n",
        "\n",
        "```\n",
        "# Isto está formatado como código\n",
        "```\n",
        "\n",
        "# **Classes de Python**\n",
        "\n",
        "Ao trabalhar em projetos de programação em Python, você pode se deparar com a utilização de muitas funções e variáveis criadas por você mesmo. As funções necessárias podem abranger uma grande variedade de propósitos em seu código (por exemplo, recuperar e processar dados, treinar um modelo de aprendizagem de máquina, produzir métricas de interesse etc.). Uma maneira útil de organizar dados e funções relacionadas é criando uma classe em Python.\n",
        "\n",
        "Uma **classe** é um modelo de código para criar e operar em um objeto. Um **objeto** é qualquer coisa que você deseja manipular enquanto trabalha com código e normalmente possui atributos de dados e métodos associados."
      ]
    },
    {
      "cell_type": "markdown",
      "metadata": {
        "id": "0ZtzMpNMb0QU"
      },
      "source": [
        "## Exemplo: Classe retângulo"
      ]
    },
    {
      "cell_type": "markdown",
      "metadata": {
        "id": "e2EyMY3NJGzm"
      },
      "source": [
        "Para ilustrar o básico das classes, vamos criar uma classe que criará objetos `Rectangle` (retângulo)."
      ]
    },
    {
      "cell_type": "code",
      "execution_count": null,
      "metadata": {
        "id": "uz0AEa4RmgGm"
      },
      "outputs": [],
      "source": [
        "class Rectangle():\n",
        "    color = 'green'\n",
        "\n",
        "    def __init__(self, length, width):\n",
        "        self.length = length\n",
        "        self.width = width"
      ]
    },
    {
      "cell_type": "markdown",
      "metadata": {
        "id": "alBns-yULwrF"
      },
      "source": [
        "Ao criar uma classe, tudo o que você precisa fazer é começar com a palavra-chave `class`, seguida pelo nome desejado para a classe. Esse nome pode ser qualquer coisa que você queira para descrever a classe. Em Python, o nome normalmente segue a convenção *CapWords*. Ou seja, se várias palavras forem unidas para formar o nome, todas elas iniciarão com maiúsculas.\n",
        "Dentro da classe, podemos definir atributos e métodos. Observe que a indentação é importante; isso indica que os atributos e os métodos estão dentro da classe que estamos definindo.\n",
        "\n",
        "Um método `__init__` é chamado sempre que uma nova instância da classe for **instanciada**. Isso também é conhecido como **construtor**. O argumento `self` geralmente aparece primeiro no construtor `__init__` e, por convenção, o argumento `self` será o primeiro parâmetro para qualquer outro método definido dentro da classe. Veremos posteriormente que o Python arranja automaticamente para que esse primeiro argumento `self` se refira à própria instância do objeto, e você não o fornece explicitamente ao construir uma nova instância ou ao chamar métodos em uma instância.\n",
        "\n",
        "Veja como instanciar um objeto da classe que definimos:"
      ]
    },
    {
      "cell_type": "code",
      "execution_count": null,
      "metadata": {
        "colab": {
          "base_uri": "https://localhost:8080/"
        },
        "id": "7tIpuW4XVru7",
        "outputId": "9880dac4-e47c-46fa-8b8a-39c33990263a"
      },
      "outputs": [
        {
          "output_type": "stream",
          "name": "stdout",
          "text": [
            "rectangle1: <__main__.Rectangle object at 0x7e3eb1f4d0f0>\n",
            "rectangle2: <__main__.Rectangle object at 0x7e3eb1f4d630>\n",
            "\n",
            "isinstance(rectangle1, Rectangle): True\n",
            "rectangle1 == rectangle2: False\n"
          ]
        }
      ],
      "source": [
        "# Instância1 da classe Rectangle\n",
        "rectangle1 = Rectangle(7,8)\n",
        "print(\"rectangle1:\", rectangle1)\n",
        "\n",
        "# Instância2 da classe Rectangle\n",
        "rectangle2 = Rectangle(3,5)\n",
        "print(\"rectangle2:\", rectangle2)\n",
        "\n",
        "# Essas são instâncias diferentes do tipo Rectangle:\n",
        "print()\n",
        "print(\"isinstance(rectangle1, Rectangle):\", isinstance(rectangle1, Rectangle))\n",
        "print(\"rectangle1 == rectangle2:\", rectangle1 == rectangle2)"
      ]
    },
    {
      "cell_type": "markdown",
      "metadata": {
        "id": "i1hBduGg5fzw"
      },
      "source": [
        "Observe que, ao imprimir `rectangle1` e `rectangle2`, instâncias da classe `Rectangle`, vemos os tipos de objeto do Python. Mas como podemos ver os dados contidos em determinada instância de uma classe?\n",
        "\n",
        "**Atributos da classe** são variáveis de uma classe compartilhadas entre todas as suas instâncias. Diferem dos **atributos de instância** porque os atributos de instância pertencem apenas a uma instância específica da classe e não são compartilhados entre as instâncias. Podemos extrair e exibir esses atributos usando as convenções abaixo."
      ]
    },
    {
      "cell_type": "code",
      "execution_count": null,
      "metadata": {
        "colab": {
          "base_uri": "https://localhost:8080/"
        },
        "id": "1FtkqEMSrg9R",
        "outputId": "f5a3af8b-03c2-49f1-f67a-2e94882c6df9"
      },
      "outputs": [
        {
          "output_type": "stream",
          "name": "stdout",
          "text": [
            "rectangle1\n",
            "color (class attribute): green\n",
            "length (instance attribute): 7\n",
            "width (instance attribute): 8\n",
            "\n",
            "rectangle2\n",
            "color (class attribute): green\n",
            "length (instance attribute): 3\n",
            "width (instance attribute): 5\n"
          ]
        }
      ],
      "source": [
        "print('rectangle1')\n",
        "print(\"color (class attribute):\", rectangle1.color)\n",
        "print(\"length (instance attribute):\", rectangle1.length)\n",
        "print(\"width (instance attribute):\", rectangle1.width)\n",
        "\n",
        "print()\n",
        "print('rectangle2')\n",
        "print(\"color (class attribute):\", rectangle2.color)\n",
        "print(\"length (instance attribute):\", rectangle2.length)\n",
        "print(\"width (instance attribute):\", rectangle2.width)"
      ]
    },
    {
      "cell_type": "markdown",
      "metadata": {
        "id": "WuXVeyH5wmhe"
      },
      "source": [
        "No construtor `Rectangle`, `length` e `width` (comprimento e largura), são os dois parâmetros incluídos. Isso significa que, para criar um novo objeto `Rectangle`, o usuário deve fornecer esses dois argumentos, que serão específicos para uma nova instância criada (7 e 8, respectivamente, para `rectangle1`, e 3 e 5 para `rectangle2`). Os atributos de cor `color` pertencem à classe como um todo, então qualquer nova instância de `Rectangle` será criada como um `Rectangle` de cor verde `green`."
      ]
    },
    {
      "cell_type": "markdown",
      "metadata": {
        "id": "xQC50xRQF6lB"
      },
      "source": [
        "### Métodos"
      ]
    },
    {
      "cell_type": "markdown",
      "metadata": {
        "id": "1R-y9Wc9CW9M"
      },
      "source": [
        "Dentro de uma classe, podemos definir **métodos** que operam em instâncias dessa classe. Métodos são semelhantes a funções, mas possuem uma sintaxe e mecanismos especiais para chamar e manipular a variável `self`.\n",
        "Os métodos nos dão a capacidade de visualizar, manipular e utilizar dados referentes à classe ou a uma instância específica. Para ilustrar, criaremos um método `area` que encontrará a área total de uma instância de retângulo fornecida."
      ]
    },
    {
      "cell_type": "code",
      "execution_count": null,
      "metadata": {
        "id": "vgTCpq-kB_RF"
      },
      "outputs": [],
      "source": [
        "class Rectangle():\n",
        "    color = 'green'\n",
        "\n",
        "    def __init__(self, length, width):\n",
        "        self.length = length\n",
        "        self.width = width\n",
        "\n",
        "    def area(self):\n",
        "        return self.length * self.width"
      ]
    },
    {
      "cell_type": "markdown",
      "metadata": {
        "id": "e7uMwNQTHFGo"
      },
      "source": [
        "Vamos observar como chamamos esse método `area` abaixo. Usamos o ponto `.` após a instância para indicar qual método está sendo chamado e, em seguida, os parênteses `()` com quaisquer argumentos necessários para esse método. O Python faz com que a própria instância seja atribuída ao parâmetro `self` no método `area`, para que o código definido nesse método, dentro da classe `Rectangle`, tenha acesso à instância específica `rectangle3`."
      ]
    },
    {
      "cell_type": "code",
      "execution_count": null,
      "metadata": {
        "colab": {
          "base_uri": "https://localhost:8080/"
        },
        "id": "7uBhXwNWE09r",
        "outputId": "3c9d487e-077d-43c3-8de5-8665a2f09c73"
      },
      "outputs": [
        {
          "output_type": "stream",
          "name": "stdout",
          "text": [
            "Rectangle Area: 36\n"
          ]
        }
      ],
      "source": [
        "rectangle3 = Rectangle(9, 4)\n",
        "\n",
        "# Chamar o método area nesta instância de retângulo\n",
        "area = rectangle3.area()\n",
        "print(\"Rectangle Area:\", area)"
      ]
    },
    {
      "cell_type": "markdown",
      "metadata": {
        "id": "u9gSb3E8HkL8"
      },
      "source": [
        "**Exercício**: Definir um método para calcular o perímetro de um retângulo e chamar o método em uma instância `rectangle4` com um comprimento `length` de `7` e uma largura `width` de `12`."
      ]
    },
    {
      "cell_type": "code",
      "execution_count": null,
      "metadata": {
        "id": "1ifVk2P6I6nS",
        "colab": {
          "base_uri": "https://localhost:8080/"
        },
        "outputId": "04ca796a-6db5-4678-8f93-5fd30a51438c"
      },
      "outputs": [
        {
          "output_type": "stream",
          "name": "stdout",
          "text": [
            "Rectangle Perimeter: 10\n"
          ]
        }
      ],
      "source": [
        "class Rectangle():\n",
        "    color = 'green'\n",
        "\n",
        "    def __init__(self, length, width):\n",
        "        self.length = length\n",
        "        self.width = width\n",
        "\n",
        "    def area(self):\n",
        "        return self.length * self.width\n",
        "\n",
        "    def perimeter(self):\n",
        "        return 2 * self.length + 2 * self.width\n",
        "\n",
        "\n",
        "# Chamar o método para encontrar o perímetro de uma instância rectangle4\n",
        "\n",
        "rectangle4 = Rectangle (2,3)\n",
        "perimeter = rectangle4.perimeter()\n",
        "print(\"Rectangle Perimeter:\", perimeter)"
      ]
    },
    {
      "cell_type": "code",
      "execution_count": null,
      "metadata": {
        "colab": {
          "base_uri": "https://localhost:8080/"
        },
        "id": "1XmfHPRoI19y",
        "outputId": "c7360602-c7db-4c3c-c44d-3886ca689bed"
      },
      "outputs": [
        {
          "name": "stdout",
          "output_type": "stream",
          "text": [
            "Perimeter of rectangle4:  38\n"
          ]
        }
      ],
      "source": [
        "#@title Solução oculta\n",
        "\n",
        " { display-mode: \"form\" }\n",
        "\n",
        "class Rectangle():\n",
        "    color = 'green'\n",
        "\n",
        "    def __init__(self, length, width):\n",
        "        self.length = length\n",
        "        self.width = width\n",
        "\n",
        "    def area(self):\n",
        "        return self.length * self.width\n",
        "\n",
        "    def perimeter(self):\n",
        "        return 2*self.length + 2*self.width\n",
        "\n",
        "rectangle4 = Rectangle(7,12)\n",
        "\n",
        "print(\"Perimeter of rectangle4: \", rectangle4.perimeter())"
      ]
    },
    {
      "cell_type": "markdown",
      "metadata": {
        "id": "MCjvJC1qMZY8"
      },
      "source": [
        "Muitas vezes, ao definir classes, é útil definir métodos getters e setters. Um método **getter** fornece a capacidade de visualizar facilmente um atributo específico. Um método **setter** permite atualizar o valor de um atributo específico.\n",
        "\n",
        "Vamos criar um método setter chamado `set_length` que nos permite atualizar o valor do comprimento `length` de uma instância de retângulo. Além disso, adicionaremos um método getter `get_length` que nos permite recuperar o comprimento de uma instância de retângulo sem acessar diretamente a variável membro."
      ]
    },
    {
      "cell_type": "code",
      "execution_count": null,
      "metadata": {
        "id": "tWewrWYWShyJ"
      },
      "outputs": [],
      "source": [
        "class Rectangle():\n",
        "    color = 'green'\n",
        "\n",
        "    def __init__(self, length, width):\n",
        "        self.length = length\n",
        "        self.width = width\n",
        "\n",
        "    def area(self):\n",
        "        return self.length * self.width\n",
        "\n",
        "    def perimeter(self):\n",
        "        return 2*self.length + 2*self.width\n",
        "\n",
        "    def set_length(self, new_length):\n",
        "        self.length = new_length\n",
        "\n",
        "    def get_length(self):\n",
        "        return self.length"
      ]
    },
    {
      "cell_type": "code",
      "execution_count": null,
      "metadata": {
        "colab": {
          "base_uri": "https://localhost:8080/"
        },
        "id": "p_Dhl1NMTvGE",
        "outputId": "d5d630d9-5a87-4465-aca8-721efcf34a94"
      },
      "outputs": [
        {
          "output_type": "stream",
          "name": "stdout",
          "text": [
            "Original rectangle5 size: (12, 13)\n",
            "Updated rectangle5 size:  (44, 13)\n"
          ]
        }
      ],
      "source": [
        "# Instanciar um novo retângulo\n",
        "rectangle5 = Rectangle(12, 13)\n",
        "print(\"Original rectangle5 size:\", (rectangle5.length, rectangle5.width))\n",
        "\n",
        "# Definir o comprimento do retângulo5 com um novo valor\n",
        "rectangle5.set_length(44)\n",
        "print(\"Updated rectangle5 size: \", (rectangle5.length, rectangle5.width))\n"
      ]
    },
    {
      "cell_type": "markdown",
      "metadata": {
        "id": "egkK0pTpKaq1"
      },
      "source": [
        "### Herança"
      ]
    },
    {
      "cell_type": "markdown",
      "metadata": {
        "id": "uDbejSdqpTCf"
      },
      "source": [
        "A **herança** nos permite definir uma classe que herda métodos e atributos de outra classe. A classe superclasse é a classe da qual estamos herdando, enquanto a classe subclasse é a classe que herda da superclasse. Atributos e métodos da superclasse agora também serão acessíveis na subclasse. Aqui, `Square` é definido como uma subclasse da superclasse `Rectangle`:"
      ]
    },
    {
      "cell_type": "code",
      "execution_count": null,
      "metadata": {
        "id": "kaJYmLzkjx1n"
      },
      "outputs": [],
      "source": [
        "class Square(Rectangle):\n",
        "\n",
        "    def __init__(self, side):\n",
        "        self.side = side\n",
        "        Rectangle.__init__(self, side, side)\n",
        "\n",
        "    def print_square_greeting(self):\n",
        "        return \"Hello, I am a square!\""
      ]
    },
    {
      "cell_type": "code",
      "execution_count": null,
      "metadata": {
        "colab": {
          "base_uri": "https://localhost:8080/"
        },
        "id": "myXAFQVhl-AC",
        "outputId": "d9616ec4-e7f2-4fda-c14d-50ee040e63ff"
      },
      "outputs": [
        {
          "output_type": "stream",
          "name": "stdout",
          "text": [
            "Type of square1 is: <class '__main__.Square'>\n",
            "isinstance(square1, Square): True\n",
            "isinstance(square1, Rectangle): True\n",
            "\n",
            "Perimeter of square1 is: 20\n",
            "Area of square1 is: 25\n",
            "Width of square1 is: 5\n",
            "Length of square1 is: 5\n",
            "Unique method only in square class: Hello, I am a square!\n"
          ]
        }
      ],
      "source": [
        "0.3# square1 é uma instância de Square (quadrado)\n",
        "square1 = Square(5)\n",
        "print(\"Type of square1 is:\", type(square1))\n",
        "print(\"isinstance(square1, Square):\", isinstance(square1, Square))\n",
        "\n",
        "# Observe que nosso quadrado TAMBÉM é um retângulo:\n",
        "print(\"isinstance(square1, Rectangle):\", isinstance(square1, Rectangle))\n",
        "\n",
        "# Portanto, podemos chamar métodos tanto de Square quanto de Rectangle em square1:\n",
        "print()\n",
        "print(\"Perimeter of square1 is:\", square1.perimeter())\n",
        "print(\"Area of square1 is:\", square1.area())\n",
        "print(\"Width of square1 is:\", square1.width) # também herda variáveis de instância da superclasse\n",
        "print(\"Length of square1 is:\", square1.length) # também herda variáveis de instância da superclasse\n",
        "print(\"Unique method only in square class:\", square1.print_square_greeting())\n",
        "\n",
        "# Essa linha causaria um erro, pois o método está presente apenas na classe Square:\n",
        "# rectangle5.print_square_greeting"
      ]
    },
    {
      "cell_type": "markdown",
      "metadata": {
        "id": "5x8pEMOTIyIK"
      },
      "source": [
        "### Exercício: Definindo a classe `BankAccount`"
      ]
    },
    {
      "cell_type": "markdown",
      "metadata": {
        "id": "C6GaEQ9RstEQ"
      },
      "source": [
        "Defina uma classe chamada `BankAccount` que satisfaça a especificação abaixo. Observe que tudo entre os primeiros `'''` e os correspondentes `'''` é um comentário, geralmente fornecido no início de uma classe para ajudar a documentar o que a classe faz."
      ]
    },
    {
      "cell_type": "code",
      "execution_count": null,
      "metadata": {
        "id": "4JHoO4hPI4so"
      },
      "outputs": [],
      "source": [
        "class BankAccount():\n",
        "\n",
        "    def __init__(self, saldo):\n",
        "        self.saldo = saldo\n",
        "\n",
        "    def get_balance(self):\n",
        "        return self.saldo\n",
        "\n",
        "    def deposit(self, val):\n",
        "        self.saldo +=val\n",
        "\n",
        "    def withdraw(self, val):\n",
        "        if self.saldo >= val:\n",
        "            self.saldo -= val\n",
        "            return True\n",
        "        else:\n",
        "            return False\n",
        "\n",
        "#    Atributos de instância\n",
        "#      saldo: inteiro que armazena o saldo bancário em dólares\n",
        "\n",
        " #   Métodos\n",
        "  #    get_balance(): obtém o valor atual do saldo bancário\n",
        "#\n",
        " #     deposit(val): adiciona o valor especificado ao saldo\n",
        "#\n",
        " #     withdraw(val): se houver fundos suficientes na conta,\n",
        "  #    subtrai val do saldo e retorna True; caso contrário,\n",
        "   #   retorna False"
      ]
    },
    {
      "cell_type": "code",
      "execution_count": null,
      "metadata": {
        "id": "WiT7Otu2sqdW",
        "outputId": "9046dbf1-da62-4a84-e3bb-30207c54ad76"
      },
      "outputs": [
        {
          "name": "stdout",
          "output_type": "stream",
          "text": [
            "Balance: 500\n",
            "Was able to withdraw $300: True ; Balance now: 200\n",
            "Was able to withdraw $300: False ; Balance now: 200\n"
          ]
        }
      ],
      "source": [
        "#@title Solução oculta { display-mode: \"form\" }\n",
        "\n",
        "class BankAccount():\n",
        "    '''\n",
        "    Atributos de instância\n",
        "      saldo: inteiro que armazena o saldo bancário em dólares\n",
        "\n",
        "    Métodos\n",
        "      get_balance(): obtém o valor atual do saldo bancário\n",
        "\n",
        "      deposit(val): adiciona o valor especificado ao saldo\n",
        "\n",
        "      withdraw(val): se houver fundos suficientes na conta,\n",
        "      subtrai val do saldo e retorna True; caso contrário,\n",
        "      retorna False\n",
        "    '''\n",
        "\n",
        "    def __init__(self, initial_balance):\n",
        "        self.balance = initial_balance\n",
        "\n",
        "    def get_balance(self):\n",
        "        return self.balance\n",
        "\n",
        "    def deposit(self, val):\n",
        "        self.balance += val\n",
        "\n",
        "    def withdraw(self, val):\n",
        "        if self.balance >= val:\n",
        "            self.balance -= val\n",
        "            return True\n",
        "        else:\n",
        "            return False\n",
        "\n",
        "my_account = BankAccount(500)\n",
        "print(\"Balance:\", my_account.get_balance())\n",
        "\n",
        "success = my_account.withdraw(300)\n",
        "print(\"Was able to withdraw $300:\", success, \"; Balance now:\", my_account.get_balance())\n",
        "\n",
        "success = my_account.withdraw(300)\n",
        "print(\"Was able to withdraw $300:\", success, \"; Balance now:\", my_account.get_balance())"
      ]
    },
    {
      "cell_type": "markdown",
      "metadata": {
        "id": "gwSBZ4fR_NqT"
      },
      "source": [
        "Recurso adicional: https://ocw.mit.edu/courses/electrical-engineering-and-computer-science/6-0001-introduction-to-computer-science-and-programming-in-python-fall-2016/lecture-slides-code/MIT6_0001F16_Lec9.pdf"
      ]
    },
    {
      "cell_type": "code",
      "execution_count": null,
      "metadata": {
        "id": "jfnm_5c39WpH"
      },
      "outputs": [],
      "source": []
    }
  ],
  "metadata": {
    "colab": {
      "provenance": []
    },
    "kernelspec": {
      "display_name": "Python 3",
      "language": "python",
      "name": "python3"
    },
    "language_info": {
      "codemirror_mode": {
        "name": "ipython",
        "version": 3
      },
      "file_extension": ".py",
      "mimetype": "text/x-python",
      "name": "python",
      "nbconvert_exporter": "python",
      "pygments_lexer": "ipython3",
      "version": "3.8.10"
    }
  },
  "nbformat": 4,
  "nbformat_minor": 0
}